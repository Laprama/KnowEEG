{
 "cells": [
  {
   "cell_type": "code",
   "execution_count": 24,
   "id": "fc927290-3ed8-4c59-8ef2-dacb16ef94d6",
   "metadata": {},
   "outputs": [],
   "source": [
    "import pandas as pd\n",
    "import mne as mne\n",
    "import os \n",
    "import time\n",
    "import numpy as np\n",
    "import matplotlib.pyplot as plt\n",
    "import joblib\n",
    "import constants\n",
    "from IPython.utils import io\n",
    "import time\n",
    "import sys\n",
    "import yasa\n",
    "from scipy.signal import welch\n",
    "\n",
    "#Import my modules\n",
    "import format_eeg_data\n",
    "import constants\n",
    "import eeg_stat_ts\n",
    "\n",
    "from mne_connectivity import spectral_connectivity_epochs\n",
    "from mne.datasets import sample\n",
    "import seaborn as sns\n",
    "\n",
    "# importing random forest classifier from ensemble module\n",
    "from sklearn.ensemble import RandomForestClassifier\n",
    "\n",
    "# Import models\n",
    "from sklearn.tree import DecisionTreeClassifier\n",
    "\n",
    "#metrics are used to find accuracy or error\n",
    "from sklearn import metrics  \n",
    "\n",
    "#Additional imports for ROC AUC if necessary\n",
    "from sklearn.metrics import roc_auc_score\n",
    "\n",
    "# from sklearn model selection import Grid Search CV\n",
    "from sklearn.model_selection import GridSearchCV\n",
    "\n",
    "import Fusion_Forest_Functions"
   ]
  },
  {
   "cell_type": "code",
   "execution_count": 25,
   "id": "be2c8ddd-5b40-40cb-a839-70e6a00f79e3",
   "metadata": {},
   "outputs": [
    {
     "data": {
      "text/plain": [
       "<module 'Fusion_Forest_Functions' from '/user/work/ko20929/RBD_using_custom_package/Execute New Experiments/Deep Learning/EEG2Rep/EEG2Rep/Dataset/KnowEEGRepo_Updated/Final_Model/Fusion_Forest_Functions.py'>"
      ]
     },
     "execution_count": 25,
     "metadata": {},
     "output_type": "execute_result"
    }
   ],
   "source": [
    "# If I wish to reload Fusion_Forest_Functions\n",
    "import importlib\n",
    "importlib.reload(Fusion_Forest_Functions)"
   ]
  },
  {
   "cell_type": "code",
   "execution_count": 26,
   "id": "d65da0e3-fd46-4acf-b2bf-43e7f559be4a",
   "metadata": {},
   "outputs": [
    {
     "data": {
      "text/plain": [
       "(None, None, None, None)"
      ]
     },
     "execution_count": 26,
     "metadata": {},
     "output_type": "execute_result"
    }
   ],
   "source": [
    "#1. Load all necessary data for training and testing ___________________________________________________________\n",
    "#Folder for loading train-test indices, filtered TSFresh Feats, selected connectivity metric\n",
    "folder = '../Toy_Data/Feature_Generation/Filtered_Features/' \n",
    "\n",
    "train_test_indices_dict = joblib.load(folder + 'train_test_indices.pkl') \n",
    "\n",
    "X_train_tsfresh = joblib.load(folder + 'X_train_tsfresh_features_filtered.pkl')\n",
    "X_test_tsfresh = joblib.load(folder + 'X_test_tsfresh_features_filtered.pkl')\n",
    "\n",
    "# First load the name of the selected metric into the variable selected_metric\n",
    "with open(folder + 'selected_connectivity_metric.txt', \"r\") as f:\n",
    "    selected_metric = f.read()\n",
    "\n",
    "# Next Load the selected connectivity metric features from the connectivity metrics folder\n",
    "connectivity_metrics_folder = '../Toy_Data/Feature_Generation/All_Features/'\n",
    "X_connectivity = joblib.load(connectivity_metrics_folder + selected_metric)\n",
    "\n",
    "X_train_connectivity = X_connectivity.iloc[train_test_indices_dict['train_idx']]\n",
    "X_test_connectivity = X_connectivity.iloc[train_test_indices_dict['test_idx']]\n",
    "\n",
    "# Finally load the y_labels and construct y_train and y_test\n",
    "test_eeg_data =  np.load('../Toy_Data/test_data.npz')\n",
    "y_labels = test_eeg_data['y']\n",
    "\n",
    "y_train = y_labels[train_test_indices_dict['train_idx']]\n",
    "y_test = y_labels[train_test_indices_dict['test_idx']]\n",
    "\n",
    "#We now have : \n",
    "# X_train_tsfresh, X_test_tsfresh , X_connectivity_train, X_connectivity_test, y_train, y_test\n",
    "# Reset indices\n",
    "X_train_tsfresh.reset_index(drop = True, inplace = True), X_test_tsfresh.reset_index(drop = True, inplace = True) , X_train_connectivity.reset_index(drop = True, inplace = True), X_test_connectivity.reset_index(drop = True, inplace = True)"
   ]
  },
  {
   "cell_type": "markdown",
   "id": "7a536d05-9e42-4566-a316-626560cf6cf5",
   "metadata": {},
   "source": [
    "## Train and Test the Model (Fusion Forest)"
   ]
  },
  {
   "cell_type": "code",
   "execution_count": 27,
   "id": "efe09c6a-6ba0-4363-85fb-967bfaea753b",
   "metadata": {},
   "outputs": [],
   "source": [
    "# X_train_tsfresh, X_test_tsfresh , X_train_connectivity , X_test_connectivity, y_train, y_test\n",
    "X_train_full = pd.concat([X_train_tsfresh, X_train_connectivity], axis = 1)\n",
    "X_test_full = pd.concat([X_test_tsfresh, X_test_connectivity], axis = 1)"
   ]
  },
  {
   "cell_type": "code",
   "execution_count": 28,
   "id": "2f0e28b0-1e61-4f8e-ac35-b9bacd7e8858",
   "metadata": {},
   "outputs": [
    {
     "name": "stdout",
     "output_type": "stream",
     "text": [
      "0.6\n",
      "0.4166666666666667\n"
     ]
    }
   ],
   "source": [
    "trained_trees_list , selected_feats_per_tree = Fusion_Forest_Functions.fit_fusion_forest(X_train_tsfresh, X_train_connectivity, y_train)\n",
    "y_preds_all = Fusion_Forest_Functions.predict_fusion_forest(X_test_tsfresh, X_test_connectivity, trained_trees_list, selected_feats_per_tree)\n",
    "\n",
    "y_probs = y_preds_all.mean(axis = 0)\n",
    "y_preds_aggregated = np.round(y_probs)\n",
    "\n",
    "auc = roc_auc_score(y_test, y_probs)\n",
    "print(auc)\n",
    "\n",
    "acc = metrics.accuracy_score(y_preds_aggregated, y_test)\n",
    "print(acc)"
   ]
  },
  {
   "cell_type": "markdown",
   "id": "f9b5c779-987e-4f5e-90c0-508b8596cade",
   "metadata": {},
   "source": [
    "### Hyperparameter Tuned Fusion Forest"
   ]
  },
  {
   "cell_type": "markdown",
   "id": "29d14d98-6ae4-4b17-b1b3-60dee9828b82",
   "metadata": {},
   "source": [
    "#### Train-Validation split"
   ]
  },
  {
   "cell_type": "code",
   "execution_count": 29,
   "id": "06c3a87c-965a-4094-8b0c-d9d2929c24ef",
   "metadata": {},
   "outputs": [],
   "source": [
    "# Split training data into train_sub and val for hyperparameter selection\n",
    "val_size = 0.2  # What percentage of the training data do you wish to set as the validation set\n",
    "\n",
    "n_samples = len(y_train)\n",
    "rng = np.random.default_rng(seed=5)\n",
    "indices = np.arange(n_samples)\n",
    "rng.shuffle(indices)\n",
    "\n",
    "n_val = int(n_samples * val_size)\n",
    "val_idx = indices[:n_val]\n",
    "train_sub_idx = indices[n_val:]"
   ]
  },
  {
   "cell_type": "code",
   "execution_count": 30,
   "id": "a31ff070-387e-4303-b07f-ead56869db92",
   "metadata": {},
   "outputs": [],
   "source": [
    "# Using train_sub_idx and val_idx we split the training data into a sub_training set and a validation set for hyperparameter selection\n",
    "X_train_sub_tsfresh, X_train_sub_connectivity , y_train_sub = X_train_tsfresh.iloc[train_sub_idx], X_train_connectivity.iloc[train_sub_idx] , y_train[train_sub_idx]\n",
    "X_val_tsfresh, X_val_connectivity , y_val = X_train_tsfresh.iloc[val_idx], X_train_connectivity.iloc[val_idx] , y_train[val_idx]"
   ]
  },
  {
   "cell_type": "markdown",
   "id": "1d2ca9f7-ab89-4548-aabe-259bb21d0492",
   "metadata": {},
   "source": [
    "#### Hyperparameter Tuning"
   ]
  },
  {
   "cell_type": "code",
   "execution_count": 31,
   "id": "8352d54e-28fe-48f7-a594-fccdf33278a5",
   "metadata": {},
   "outputs": [],
   "source": [
    "# You need to run a Fusion Forest for each seperate num_trees parameter THEN combine\n",
    "num_trees_list = [50, 100, 200, 500, 800, 1000]\n",
    "\n",
    "# Outside of the loop you have: \n",
    "results_dict = {} # create dictionary to save the results to select the best metric\n",
    "results_dict['num_trees'] = []\n",
    "results_dict['accuracy'] = []"
   ]
  },
  {
   "cell_type": "code",
   "execution_count": 32,
   "id": "889b65c1-d898-4cfb-b1c9-56b6318dd83f",
   "metadata": {},
   "outputs": [],
   "source": [
    "for num_trees in num_trees_list:\n",
    "    trained_trees_list , selected_feats_per_tree = Fusion_Forest_Functions.fit_fusion_forest(X_train_sub_tsfresh, X_train_sub_connectivity, y_train_sub)\n",
    "    y_preds_all = Fusion_Forest_Functions.predict_fusion_forest(X_val_tsfresh, X_val_connectivity, trained_trees_list, selected_feats_per_tree)\n",
    "    \n",
    "    y_probs = y_preds_all.mean(axis = 0)\n",
    "    y_preds_aggregated = np.round(y_probs)\n",
    "    acc = metrics.accuracy_score(y_preds_aggregated, y_val)\n",
    "    \n",
    "    results_dict['num_trees'].append(num_trees)\n",
    "    results_dict['accuracy'].append(acc)"
   ]
  },
  {
   "cell_type": "code",
   "execution_count": 33,
   "id": "76d9168d-31bc-4217-9ee5-5a2efe23eaf9",
   "metadata": {},
   "outputs": [
    {
     "data": {
      "text/plain": [
       "800"
      ]
     },
     "execution_count": 33,
     "metadata": {},
     "output_type": "execute_result"
    }
   ],
   "source": [
    "results_df = pd.DataFrame(results_dict)\n",
    "results_df = results_df.sort_values(by = 'accuracy', ascending = False)\n",
    "\n",
    "selected_num_trees = results_df.iloc[0,0]\n",
    "selected_num_trees"
   ]
  }
 ],
 "metadata": {
  "kernelspec": {
   "display_name": "Python 3 (ipykernel)",
   "language": "python",
   "name": "python3"
  },
  "language_info": {
   "codemirror_mode": {
    "name": "ipython",
    "version": 3
   },
   "file_extension": ".py",
   "mimetype": "text/x-python",
   "name": "python",
   "nbconvert_exporter": "python",
   "pygments_lexer": "ipython3",
   "version": "3.10.14"
  }
 },
 "nbformat": 4,
 "nbformat_minor": 5
}
