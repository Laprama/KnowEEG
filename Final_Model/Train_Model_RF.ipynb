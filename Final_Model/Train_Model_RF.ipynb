{
 "cells": [
  {
   "cell_type": "code",
   "execution_count": 43,
   "id": "fc927290-3ed8-4c59-8ef2-dacb16ef94d6",
   "metadata": {},
   "outputs": [],
   "source": [
    "import pandas as pd\n",
    "import mne as mne\n",
    "import os \n",
    "import time\n",
    "import numpy as np\n",
    "import matplotlib.pyplot as plt\n",
    "import joblib\n",
    "import constants\n",
    "from IPython.utils import io\n",
    "import time\n",
    "import sys\n",
    "import yasa\n",
    "from scipy.signal import welch\n",
    "\n",
    "#Import my modules\n",
    "import format_eeg_data\n",
    "import constants\n",
    "import eeg_stat_ts\n",
    "\n",
    "from mne_connectivity import spectral_connectivity_epochs\n",
    "from mne.datasets import sample\n",
    "import seaborn as sns\n",
    "\n",
    "from scipy.signal import welch\n",
    "import yasa\n",
    "import constants\n",
    "import numpy as np\n",
    "\n",
    "# importing random forest classifier from ensemble module\n",
    "from sklearn.ensemble import RandomForestClassifier\n",
    "# metrics are used to find accuracy or error\n",
    "from sklearn import metrics  \n",
    "\n",
    "# from sklearn model selection import Grid Search CV\n",
    "from sklearn.model_selection import GridSearchCV"
   ]
  },
  {
   "cell_type": "code",
   "execution_count": 32,
   "id": "d65da0e3-fd46-4acf-b2bf-43e7f559be4a",
   "metadata": {},
   "outputs": [
    {
     "data": {
      "text/plain": [
       "(None, None, None, None)"
      ]
     },
     "execution_count": 32,
     "metadata": {},
     "output_type": "execute_result"
    }
   ],
   "source": [
    "#1. Load all necessary data for training and testing ___________________________________________________________\n",
    "#Folder for loading train-test indices, filtered TSFresh Feats, selected connectivity metric\n",
    "folder = '../Toy_Data/Feature_Generation/Filtered_Features/' \n",
    "\n",
    "train_test_indices_dict = joblib.load(folder + 'train_test_indices.pkl') \n",
    "\n",
    "X_train_tsfresh = joblib.load(folder + 'X_train_tsfresh_features_filtered.pkl')\n",
    "X_test_tsfresh = joblib.load(folder + 'X_test_tsfresh_features_filtered.pkl')\n",
    "\n",
    "# First load the name of the selected metric into the variable selected_metric\n",
    "with open(folder + 'selected_connectivity_metric.txt', \"r\") as f:\n",
    "    selected_metric = f.read()\n",
    "\n",
    "# Next Load the selected connectivity metric features from the connectivity metrics folder\n",
    "connectivity_metrics_folder = '../Toy_Data/Feature_Generation/All_Features/'\n",
    "X_connectivity = joblib.load(connectivity_metrics_folder + selected_metric)\n",
    "\n",
    "X_connectivity_train = X_connectivity.iloc[train_test_indices_dict['train_idx']]\n",
    "X_connectivity_test = X_connectivity.iloc[train_test_indices_dict['test_idx']]\n",
    "\n",
    "# Finally load the y_labels and construct y_train and y_test\n",
    "test_eeg_data =  np.load('../Toy_Data/test_data.npz')\n",
    "y_labels = test_eeg_data['y']\n",
    "\n",
    "y_train = y_labels[train_test_indices_dict['train_idx']]\n",
    "y_test = y_labels[train_test_indices_dict['test_idx']]\n",
    "\n",
    "#We now have : \n",
    "# X_train_tsfresh, X_test_tsfresh , X_connectivity_train, X_connectivity_test, y_train, y_test\n",
    "# Reset indices\n",
    "X_train_tsfresh.reset_index(drop = True, inplace = True), X_test_tsfresh.reset_index(drop = True, inplace = True) , X_connectivity_train.reset_index(drop = True, inplace = True), X_connectivity_test.reset_index(drop = True, inplace = True)"
   ]
  },
  {
   "cell_type": "markdown",
   "id": "7a536d05-9e42-4566-a316-626560cf6cf5",
   "metadata": {},
   "source": [
    "## Train the Model (Random Forest)"
   ]
  },
  {
   "cell_type": "code",
   "execution_count": 39,
   "id": "efe09c6a-6ba0-4363-85fb-967bfaea753b",
   "metadata": {},
   "outputs": [],
   "source": [
    "# X_train_tsfresh, X_test_tsfresh , X_connectivity_train, X_connectivity_test, y_train, y_test\n",
    "X_train_full = pd.concat([X_train_tsfresh, X_connectivity_train], axis = 1)\n",
    "X_test_full = pd.concat([X_test_tsfresh, X_connectivity_test], axis = 1)"
   ]
  },
  {
   "cell_type": "markdown",
   "id": "f9b5c779-987e-4f5e-90c0-508b8596cade",
   "metadata": {},
   "source": [
    "### Train and Test a random forest with no tuning"
   ]
  },
  {
   "cell_type": "code",
   "execution_count": 59,
   "id": "ffa7deb2-9d0e-491e-b858-4d7bc10222d9",
   "metadata": {},
   "outputs": [
    {
     "data": {
      "text/plain": [
       "0.4166666666666667"
      ]
     },
     "execution_count": 59,
     "metadata": {},
     "output_type": "execute_result"
    }
   ],
   "source": [
    "# Train and test a random forest with no tuning:\n",
    "clf = RandomForestClassifier( n_jobs = -1)\n",
    "clf.fit( X_train_full , y_train )\n",
    "y_pred = clf.predict(X_test_full)\n",
    "acc = metrics.accuracy_score(y_test, y_pred)\n",
    "acc"
   ]
  },
  {
   "cell_type": "markdown",
   "id": "a80ef3f0-abef-4d8a-9e2b-c6237858a102",
   "metadata": {},
   "source": [
    "### Train and Test a random forest with tuning"
   ]
  },
  {
   "cell_type": "code",
   "execution_count": 64,
   "id": "a8b582ce-5b90-4479-ac09-1d7204f20e1e",
   "metadata": {},
   "outputs": [
    {
     "name": "stdout",
     "output_type": "stream",
     "text": [
      "Fitting 5 folds for each of 12 candidates, totalling 60 fits\n",
      "{'criterion': 'entropy', 'max_depth': 3, 'max_features': 'sqrt', 'min_samples_split': 4, 'n_estimators': 10}\n"
     ]
    },
    {
     "data": {
      "text/plain": [
       "0.3333333333333333"
      ]
     },
     "execution_count": 64,
     "metadata": {},
     "output_type": "execute_result"
    }
   ],
   "source": [
    "## Create the param grids for each model type\n",
    "RF_param_grid = { \n",
    "    'n_estimators': [2,3, 10, 40,100,250],\n",
    "    'max_features': [None, 'sqrt'],\n",
    "    'max_depth' : [2,3,5,8, None],\n",
    "    'criterion' :['gini',  'entropy'],\n",
    "    'min_samples_split' : [2,3,4,5]}\n",
    "\n",
    "RF_param_grid = { \n",
    "    'n_estimators': [2,3, 10] ,\n",
    "    'max_features': [None, 'sqrt'],\n",
    "    'max_depth' : [2,3],\n",
    "    'criterion' :['entropy'],\n",
    "    'min_samples_split' : [4]}\n",
    "\n",
    "clf = GridSearchCV( RandomForestClassifier(), RF_param_grid , n_jobs = -1, refit = True, verbose = 1 )\n",
    "\n",
    "clf.fit( X_train_full , y_train )\n",
    "\n",
    "print(clf.best_params_)\n",
    "\n",
    "y_pred = clf.predict(X_test_full)\n",
    "acc = metrics.accuracy_score(y_test, y_pred)\n",
    "acc"
   ]
  }
 ],
 "metadata": {
  "kernelspec": {
   "display_name": "Python 3 (ipykernel)",
   "language": "python",
   "name": "python3"
  },
  "language_info": {
   "codemirror_mode": {
    "name": "ipython",
    "version": 3
   },
   "file_extension": ".py",
   "mimetype": "text/x-python",
   "name": "python",
   "nbconvert_exporter": "python",
   "pygments_lexer": "ipython3",
   "version": "3.10.14"
  }
 },
 "nbformat": 4,
 "nbformat_minor": 5
}
